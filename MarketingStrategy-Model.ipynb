{
 "cells": [
  {
   "cell_type": "code",
   "execution_count": 1,
   "id": "02555669",
   "metadata": {
    "_cell_guid": "b1076dfc-b9ad-4769-8c92-a6c4dae69d19",
    "_uuid": "8f2839f25d086af736a60e9eeb907d3b93b6e0e5",
    "execution": {
     "iopub.execute_input": "2022-12-18T07:26:19.897906Z",
     "iopub.status.busy": "2022-12-18T07:26:19.897097Z",
     "iopub.status.idle": "2022-12-18T07:26:19.911274Z",
     "shell.execute_reply": "2022-12-18T07:26:19.909957Z"
    },
    "papermill": {
     "duration": 0.026753,
     "end_time": "2022-12-18T07:26:19.913682",
     "exception": false,
     "start_time": "2022-12-18T07:26:19.886929",
     "status": "completed"
    },
    "tags": []
   },
   "outputs": [
    {
     "name": "stdout",
     "output_type": "stream",
     "text": [
      "/kaggle/input/marketing-strategy-personalised-offer/sample.csv\n",
      "/kaggle/input/marketing-strategy-personalised-offer/train_data.csv\n",
      "/kaggle/input/marketing-strategy-personalised-offer/test_data.csv\n"
     ]
    }
   ],
   "source": [
    "# This Python 3 environment comes with many helpful analytics libraries installed\n",
    "# It is defined by the kaggle/python Docker image: https://github.com/kaggle/docker-python\n",
    "# For example, here's several helpful packages to load\n",
    "\n",
    "import numpy as np # linear algebra\n",
    "import pandas as pd # data processing, CSV file I/O (e.g. pd.read_csv)\n",
    "\n",
    "# Input data files are available in the read-only \"../input/\" directory\n",
    "# For example, running this (by clicking run or pressing Shift+Enter) will list all files under the input directory\n",
    "\n",
    "import os\n",
    "for dirname, _, filenames in os.walk('/kaggle/input'):\n",
    "    for filename in filenames:\n",
    "        print(os.path.join(dirname, filename))\n",
    "\n",
    "# You can write up to 20GB to the current directory (/kaggle/working/) that gets preserved as output when you create a version using \"Save & Run All\" \n",
    "# You can also write temporary files to /kaggle/temp/, but they won't be saved outside of the current session"
   ]
  },
  {
   "cell_type": "code",
   "execution_count": 2,
   "id": "63e96d6f",
   "metadata": {
    "execution": {
     "iopub.execute_input": "2022-12-18T07:26:19.930262Z",
     "iopub.status.busy": "2022-12-18T07:26:19.929874Z",
     "iopub.status.idle": "2022-12-18T07:26:20.051378Z",
     "shell.execute_reply": "2022-12-18T07:26:20.049944Z"
    },
    "papermill": {
     "duration": 0.13236,
     "end_time": "2022-12-18T07:26:20.053787",
     "exception": false,
     "start_time": "2022-12-18T07:26:19.921427",
     "status": "completed"
    },
    "tags": []
   },
   "outputs": [
    {
     "data": {
      "text/html": [
       "<div>\n",
       "<style scoped>\n",
       "    .dataframe tbody tr th:only-of-type {\n",
       "        vertical-align: middle;\n",
       "    }\n",
       "\n",
       "    .dataframe tbody tr th {\n",
       "        vertical-align: top;\n",
       "    }\n",
       "\n",
       "    .dataframe thead th {\n",
       "        text-align: right;\n",
       "    }\n",
       "</style>\n",
       "<table border=\"1\" class=\"dataframe\">\n",
       "  <thead>\n",
       "    <tr style=\"text-align: right;\">\n",
       "      <th></th>\n",
       "      <th>offer expiration</th>\n",
       "      <th>income_range</th>\n",
       "      <th>no_visited_Cold drinks</th>\n",
       "      <th>travelled_more_than_15mins_for_offer</th>\n",
       "      <th>Restaur_spend_less_than20</th>\n",
       "      <th>Marital Status</th>\n",
       "      <th>restaurant type</th>\n",
       "      <th>age</th>\n",
       "      <th>Prefer western over chinese</th>\n",
       "      <th>travelled_more_than_25mins_for_offer</th>\n",
       "      <th>...</th>\n",
       "      <th>restuarant_opposite_direction_house</th>\n",
       "      <th>has Children</th>\n",
       "      <th>visit restaurant with rating (avg)</th>\n",
       "      <th>temperature</th>\n",
       "      <th>Restaur_spend_greater_than20</th>\n",
       "      <th>Travel Time</th>\n",
       "      <th>Climate</th>\n",
       "      <th>drop location</th>\n",
       "      <th>Prefer home food</th>\n",
       "      <th>Offer Accepted</th>\n",
       "    </tr>\n",
       "  </thead>\n",
       "  <tbody>\n",
       "    <tr>\n",
       "      <th>0</th>\n",
       "      <td>2days</td>\n",
       "      <td>₹100000 or More</td>\n",
       "      <td>4~8</td>\n",
       "      <td>1</td>\n",
       "      <td>less1</td>\n",
       "      <td>Married partner</td>\n",
       "      <td>4 star restaurant</td>\n",
       "      <td>36</td>\n",
       "      <td>0</td>\n",
       "      <td>0</td>\n",
       "      <td>...</td>\n",
       "      <td>0</td>\n",
       "      <td>0</td>\n",
       "      <td>4</td>\n",
       "      <td>67</td>\n",
       "      <td>less1</td>\n",
       "      <td>22</td>\n",
       "      <td>Spring</td>\n",
       "      <td>Location B</td>\n",
       "      <td>0</td>\n",
       "      <td>No</td>\n",
       "    </tr>\n",
       "    <tr>\n",
       "      <th>1</th>\n",
       "      <td>2days</td>\n",
       "      <td>₹87500 - ₹99999</td>\n",
       "      <td>4~8</td>\n",
       "      <td>0</td>\n",
       "      <td>4~8</td>\n",
       "      <td>Married partner</td>\n",
       "      <td>Take-away restaurant</td>\n",
       "      <td>50plus</td>\n",
       "      <td>0</td>\n",
       "      <td>0</td>\n",
       "      <td>...</td>\n",
       "      <td>0</td>\n",
       "      <td>1</td>\n",
       "      <td>3</td>\n",
       "      <td>89</td>\n",
       "      <td>1~3</td>\n",
       "      <td>18</td>\n",
       "      <td>Summer</td>\n",
       "      <td>Location B</td>\n",
       "      <td>0</td>\n",
       "      <td>Yes</td>\n",
       "    </tr>\n",
       "    <tr>\n",
       "      <th>2</th>\n",
       "      <td>2days</td>\n",
       "      <td>₹87500 - ₹99999</td>\n",
       "      <td>less1</td>\n",
       "      <td>1</td>\n",
       "      <td>1~3</td>\n",
       "      <td>Single</td>\n",
       "      <td>Cold drinks</td>\n",
       "      <td>26</td>\n",
       "      <td>1</td>\n",
       "      <td>0</td>\n",
       "      <td>...</td>\n",
       "      <td>1</td>\n",
       "      <td>1</td>\n",
       "      <td>4</td>\n",
       "      <td>67</td>\n",
       "      <td>less1</td>\n",
       "      <td>7</td>\n",
       "      <td>Winter</td>\n",
       "      <td>Location A</td>\n",
       "      <td>1</td>\n",
       "      <td>Yes</td>\n",
       "    </tr>\n",
       "    <tr>\n",
       "      <th>3</th>\n",
       "      <td>10hours</td>\n",
       "      <td>₹37500 - ₹49999</td>\n",
       "      <td>less1</td>\n",
       "      <td>0</td>\n",
       "      <td>1~3</td>\n",
       "      <td>Single</td>\n",
       "      <td>Take-away restaurant</td>\n",
       "      <td>46</td>\n",
       "      <td>1</td>\n",
       "      <td>0</td>\n",
       "      <td>...</td>\n",
       "      <td>0</td>\n",
       "      <td>1</td>\n",
       "      <td>3</td>\n",
       "      <td>89</td>\n",
       "      <td>1~3</td>\n",
       "      <td>7</td>\n",
       "      <td>Summer</td>\n",
       "      <td>Location C</td>\n",
       "      <td>0</td>\n",
       "      <td>No</td>\n",
       "    </tr>\n",
       "    <tr>\n",
       "      <th>4</th>\n",
       "      <td>2days</td>\n",
       "      <td>₹100000 or More</td>\n",
       "      <td>never</td>\n",
       "      <td>1</td>\n",
       "      <td>1~3</td>\n",
       "      <td>Single</td>\n",
       "      <td>4 star restaurant</td>\n",
       "      <td>21</td>\n",
       "      <td>0</td>\n",
       "      <td>1</td>\n",
       "      <td>...</td>\n",
       "      <td>1</td>\n",
       "      <td>0</td>\n",
       "      <td>3</td>\n",
       "      <td>40</td>\n",
       "      <td>less1</td>\n",
       "      <td>7</td>\n",
       "      <td>Summer</td>\n",
       "      <td>Location C</td>\n",
       "      <td>0</td>\n",
       "      <td>No</td>\n",
       "    </tr>\n",
       "  </tbody>\n",
       "</table>\n",
       "<p>5 rows × 31 columns</p>\n",
       "</div>"
      ],
      "text/plain": [
       "  offer expiration     income_range no_visited_Cold drinks  \\\n",
       "0            2days  ₹100000 or More                    4~8   \n",
       "1            2days  ₹87500 - ₹99999                    4~8   \n",
       "2            2days  ₹87500 - ₹99999                  less1   \n",
       "3          10hours  ₹37500 - ₹49999                  less1   \n",
       "4            2days  ₹100000 or More                  never   \n",
       "\n",
       "   travelled_more_than_15mins_for_offer Restaur_spend_less_than20  \\\n",
       "0                                     1                     less1   \n",
       "1                                     0                       4~8   \n",
       "2                                     1                       1~3   \n",
       "3                                     0                       1~3   \n",
       "4                                     1                       1~3   \n",
       "\n",
       "    Marital Status       restaurant type     age  Prefer western over chinese  \\\n",
       "0  Married partner     4 star restaurant      36                            0   \n",
       "1  Married partner  Take-away restaurant  50plus                            0   \n",
       "2           Single           Cold drinks      26                            1   \n",
       "3           Single  Take-away restaurant      46                            1   \n",
       "4           Single     4 star restaurant      21                            0   \n",
       "\n",
       "   travelled_more_than_25mins_for_offer  ...  \\\n",
       "0                                     0  ...   \n",
       "1                                     0  ...   \n",
       "2                                     0  ...   \n",
       "3                                     0  ...   \n",
       "4                                     1  ...   \n",
       "\n",
       "   restuarant_opposite_direction_house has Children  \\\n",
       "0                                    0            0   \n",
       "1                                    0            1   \n",
       "2                                    1            1   \n",
       "3                                    0            1   \n",
       "4                                    1            0   \n",
       "\n",
       "  visit restaurant with rating (avg) temperature  \\\n",
       "0                                  4          67   \n",
       "1                                  3          89   \n",
       "2                                  4          67   \n",
       "3                                  3          89   \n",
       "4                                  3          40   \n",
       "\n",
       "   Restaur_spend_greater_than20  Travel Time Climate drop location  \\\n",
       "0                         less1           22  Spring    Location B   \n",
       "1                           1~3           18  Summer    Location B   \n",
       "2                         less1            7  Winter    Location A   \n",
       "3                           1~3            7  Summer    Location C   \n",
       "4                         less1            7  Summer    Location C   \n",
       "\n",
       "   Prefer home food Offer Accepted  \n",
       "0                 0             No  \n",
       "1                 0            Yes  \n",
       "2                 1            Yes  \n",
       "3                 0             No  \n",
       "4                 0             No  \n",
       "\n",
       "[5 rows x 31 columns]"
      ]
     },
     "execution_count": 2,
     "metadata": {},
     "output_type": "execute_result"
    }
   ],
   "source": [
    "data=pd.read_csv('/kaggle/input/marketing-strategy-personalised-offer/train_data.csv')\n",
    "data.head()  # describing the data"
   ]
  },
  {
   "cell_type": "code",
   "execution_count": 3,
   "id": "6b5ef970",
   "metadata": {
    "execution": {
     "iopub.execute_input": "2022-12-18T07:26:20.071461Z",
     "iopub.status.busy": "2022-12-18T07:26:20.071046Z",
     "iopub.status.idle": "2022-12-18T07:26:20.077048Z",
     "shell.execute_reply": "2022-12-18T07:26:20.075180Z"
    },
    "papermill": {
     "duration": 0.018382,
     "end_time": "2022-12-18T07:26:20.080160",
     "exception": false,
     "start_time": "2022-12-18T07:26:20.061778",
     "status": "completed"
    },
    "tags": []
   },
   "outputs": [],
   "source": [
    "#data.shape   # size of dataset  12379 rows and 31 columns"
   ]
  },
  {
   "cell_type": "code",
   "execution_count": 4,
   "id": "4ec07f94",
   "metadata": {
    "execution": {
     "iopub.execute_input": "2022-12-18T07:26:20.097960Z",
     "iopub.status.busy": "2022-12-18T07:26:20.097605Z",
     "iopub.status.idle": "2022-12-18T07:26:20.102269Z",
     "shell.execute_reply": "2022-12-18T07:26:20.101016Z"
    },
    "papermill": {
     "duration": 0.01613,
     "end_time": "2022-12-18T07:26:20.104456",
     "exception": false,
     "start_time": "2022-12-18T07:26:20.088326",
     "status": "completed"
    },
    "tags": []
   },
   "outputs": [],
   "source": [
    "#data.info()   #datatypes of all columns in data"
   ]
  },
  {
   "cell_type": "code",
   "execution_count": 5,
   "id": "2c30ca30",
   "metadata": {
    "execution": {
     "iopub.execute_input": "2022-12-18T07:26:20.123335Z",
     "iopub.status.busy": "2022-12-18T07:26:20.122323Z",
     "iopub.status.idle": "2022-12-18T07:26:20.126505Z",
     "shell.execute_reply": "2022-12-18T07:26:20.125841Z"
    },
    "papermill": {
     "duration": 0.015943,
     "end_time": "2022-12-18T07:26:20.128428",
     "exception": false,
     "start_time": "2022-12-18T07:26:20.112485",
     "status": "completed"
    },
    "tags": []
   },
   "outputs": [],
   "source": [
    "#data.isna().sum()/len(data)*100"
   ]
  },
  {
   "cell_type": "code",
   "execution_count": 6,
   "id": "437d70f8",
   "metadata": {
    "execution": {
     "iopub.execute_input": "2022-12-18T07:26:20.147689Z",
     "iopub.status.busy": "2022-12-18T07:26:20.146688Z",
     "iopub.status.idle": "2022-12-18T07:26:20.150996Z",
     "shell.execute_reply": "2022-12-18T07:26:20.150329Z"
    },
    "papermill": {
     "duration": 0.015511,
     "end_time": "2022-12-18T07:26:20.153096",
     "exception": false,
     "start_time": "2022-12-18T07:26:20.137585",
     "status": "completed"
    },
    "tags": []
   },
   "outputs": [],
   "source": [
    "#data.describe()"
   ]
  },
  {
   "cell_type": "code",
   "execution_count": 7,
   "id": "aec9660a",
   "metadata": {
    "execution": {
     "iopub.execute_input": "2022-12-18T07:26:20.170562Z",
     "iopub.status.busy": "2022-12-18T07:26:20.169692Z",
     "iopub.status.idle": "2022-12-18T07:26:20.173174Z",
     "shell.execute_reply": "2022-12-18T07:26:20.172571Z"
    },
    "papermill": {
     "duration": 0.013795,
     "end_time": "2022-12-18T07:26:20.174818",
     "exception": false,
     "start_time": "2022-12-18T07:26:20.161023",
     "status": "completed"
    },
    "tags": []
   },
   "outputs": [],
   "source": [
    "#data.columns"
   ]
  },
  {
   "cell_type": "code",
   "execution_count": 8,
   "id": "ceae281a",
   "metadata": {
    "execution": {
     "iopub.execute_input": "2022-12-18T07:26:20.191920Z",
     "iopub.status.busy": "2022-12-18T07:26:20.191584Z",
     "iopub.status.idle": "2022-12-18T07:26:20.222352Z",
     "shell.execute_reply": "2022-12-18T07:26:20.221294Z"
    },
    "papermill": {
     "duration": 0.042453,
     "end_time": "2022-12-18T07:26:20.225148",
     "exception": false,
     "start_time": "2022-12-18T07:26:20.182695",
     "status": "completed"
    },
    "tags": []
   },
   "outputs": [
    {
     "data": {
      "text/html": [
       "<div>\n",
       "<style scoped>\n",
       "    .dataframe tbody tr th:only-of-type {\n",
       "        vertical-align: middle;\n",
       "    }\n",
       "\n",
       "    .dataframe tbody tr th {\n",
       "        vertical-align: top;\n",
       "    }\n",
       "\n",
       "    .dataframe thead th {\n",
       "        text-align: right;\n",
       "    }\n",
       "</style>\n",
       "<table border=\"1\" class=\"dataframe\">\n",
       "  <thead>\n",
       "    <tr style=\"text-align: right;\">\n",
       "      <th></th>\n",
       "      <th>offer expiration</th>\n",
       "      <th>income_range</th>\n",
       "      <th>no_visited_Cold drinks</th>\n",
       "      <th>travelled_more_than_15mins_for_offer</th>\n",
       "      <th>Restaur_spend_less_than20</th>\n",
       "      <th>Marital Status</th>\n",
       "      <th>restaurant type</th>\n",
       "      <th>age</th>\n",
       "      <th>Prefer western over chinese</th>\n",
       "      <th>travelled_more_than_25mins_for_offer</th>\n",
       "      <th>...</th>\n",
       "      <th>Job/Job Industry</th>\n",
       "      <th>restuarant_opposite_direction_house</th>\n",
       "      <th>has Children</th>\n",
       "      <th>visit restaurant with rating (avg)</th>\n",
       "      <th>temperature</th>\n",
       "      <th>Restaur_spend_greater_than20</th>\n",
       "      <th>Travel Time</th>\n",
       "      <th>Climate</th>\n",
       "      <th>drop location</th>\n",
       "      <th>Prefer home food</th>\n",
       "    </tr>\n",
       "  </thead>\n",
       "  <tbody>\n",
       "    <tr>\n",
       "      <th>0</th>\n",
       "      <td>2days</td>\n",
       "      <td>₹100000 or More</td>\n",
       "      <td>4~8</td>\n",
       "      <td>1</td>\n",
       "      <td>less1</td>\n",
       "      <td>Married partner</td>\n",
       "      <td>4 star restaurant</td>\n",
       "      <td>36</td>\n",
       "      <td>0</td>\n",
       "      <td>0</td>\n",
       "      <td>...</td>\n",
       "      <td>Unemployed</td>\n",
       "      <td>0</td>\n",
       "      <td>0</td>\n",
       "      <td>4</td>\n",
       "      <td>67</td>\n",
       "      <td>less1</td>\n",
       "      <td>22</td>\n",
       "      <td>Spring</td>\n",
       "      <td>Location B</td>\n",
       "      <td>0</td>\n",
       "    </tr>\n",
       "    <tr>\n",
       "      <th>1</th>\n",
       "      <td>2days</td>\n",
       "      <td>₹87500 - ₹99999</td>\n",
       "      <td>4~8</td>\n",
       "      <td>0</td>\n",
       "      <td>4~8</td>\n",
       "      <td>Married partner</td>\n",
       "      <td>Take-away restaurant</td>\n",
       "      <td>50plus</td>\n",
       "      <td>0</td>\n",
       "      <td>0</td>\n",
       "      <td>...</td>\n",
       "      <td>Unemployed</td>\n",
       "      <td>0</td>\n",
       "      <td>1</td>\n",
       "      <td>3</td>\n",
       "      <td>89</td>\n",
       "      <td>1~3</td>\n",
       "      <td>18</td>\n",
       "      <td>Summer</td>\n",
       "      <td>Location B</td>\n",
       "      <td>0</td>\n",
       "    </tr>\n",
       "    <tr>\n",
       "      <th>2</th>\n",
       "      <td>2days</td>\n",
       "      <td>₹87500 - ₹99999</td>\n",
       "      <td>less1</td>\n",
       "      <td>1</td>\n",
       "      <td>1~3</td>\n",
       "      <td>Single</td>\n",
       "      <td>Cold drinks</td>\n",
       "      <td>26</td>\n",
       "      <td>1</td>\n",
       "      <td>0</td>\n",
       "      <td>...</td>\n",
       "      <td>Arts Design Entertainment Sports &amp; Media</td>\n",
       "      <td>1</td>\n",
       "      <td>1</td>\n",
       "      <td>4</td>\n",
       "      <td>67</td>\n",
       "      <td>less1</td>\n",
       "      <td>7</td>\n",
       "      <td>Winter</td>\n",
       "      <td>Location A</td>\n",
       "      <td>1</td>\n",
       "    </tr>\n",
       "    <tr>\n",
       "      <th>3</th>\n",
       "      <td>10hours</td>\n",
       "      <td>₹37500 - ₹49999</td>\n",
       "      <td>less1</td>\n",
       "      <td>0</td>\n",
       "      <td>1~3</td>\n",
       "      <td>Single</td>\n",
       "      <td>Take-away restaurant</td>\n",
       "      <td>46</td>\n",
       "      <td>1</td>\n",
       "      <td>0</td>\n",
       "      <td>...</td>\n",
       "      <td>Sales &amp; Related</td>\n",
       "      <td>0</td>\n",
       "      <td>1</td>\n",
       "      <td>3</td>\n",
       "      <td>89</td>\n",
       "      <td>1~3</td>\n",
       "      <td>7</td>\n",
       "      <td>Summer</td>\n",
       "      <td>Location C</td>\n",
       "      <td>0</td>\n",
       "    </tr>\n",
       "    <tr>\n",
       "      <th>4</th>\n",
       "      <td>2days</td>\n",
       "      <td>₹100000 or More</td>\n",
       "      <td>never</td>\n",
       "      <td>1</td>\n",
       "      <td>1~3</td>\n",
       "      <td>Single</td>\n",
       "      <td>4 star restaurant</td>\n",
       "      <td>21</td>\n",
       "      <td>0</td>\n",
       "      <td>1</td>\n",
       "      <td>...</td>\n",
       "      <td>Sales &amp; Related</td>\n",
       "      <td>1</td>\n",
       "      <td>0</td>\n",
       "      <td>3</td>\n",
       "      <td>40</td>\n",
       "      <td>less1</td>\n",
       "      <td>7</td>\n",
       "      <td>Summer</td>\n",
       "      <td>Location C</td>\n",
       "      <td>0</td>\n",
       "    </tr>\n",
       "  </tbody>\n",
       "</table>\n",
       "<p>5 rows × 30 columns</p>\n",
       "</div>"
      ],
      "text/plain": [
       "  offer expiration     income_range no_visited_Cold drinks  \\\n",
       "0            2days  ₹100000 or More                    4~8   \n",
       "1            2days  ₹87500 - ₹99999                    4~8   \n",
       "2            2days  ₹87500 - ₹99999                  less1   \n",
       "3          10hours  ₹37500 - ₹49999                  less1   \n",
       "4            2days  ₹100000 or More                  never   \n",
       "\n",
       "   travelled_more_than_15mins_for_offer Restaur_spend_less_than20  \\\n",
       "0                                     1                     less1   \n",
       "1                                     0                       4~8   \n",
       "2                                     1                       1~3   \n",
       "3                                     0                       1~3   \n",
       "4                                     1                       1~3   \n",
       "\n",
       "    Marital Status       restaurant type     age  Prefer western over chinese  \\\n",
       "0  Married partner     4 star restaurant      36                            0   \n",
       "1  Married partner  Take-away restaurant  50plus                            0   \n",
       "2           Single           Cold drinks      26                            1   \n",
       "3           Single  Take-away restaurant      46                            1   \n",
       "4           Single     4 star restaurant      21                            0   \n",
       "\n",
       "   travelled_more_than_25mins_for_offer  ...  \\\n",
       "0                                     0  ...   \n",
       "1                                     0  ...   \n",
       "2                                     0  ...   \n",
       "3                                     0  ...   \n",
       "4                                     1  ...   \n",
       "\n",
       "                           Job/Job Industry  \\\n",
       "0                                Unemployed   \n",
       "1                                Unemployed   \n",
       "2  Arts Design Entertainment Sports & Media   \n",
       "3                           Sales & Related   \n",
       "4                           Sales & Related   \n",
       "\n",
       "  restuarant_opposite_direction_house has Children  \\\n",
       "0                                   0            0   \n",
       "1                                   0            1   \n",
       "2                                   1            1   \n",
       "3                                   0            1   \n",
       "4                                   1            0   \n",
       "\n",
       "  visit restaurant with rating (avg)  temperature  \\\n",
       "0                                  4           67   \n",
       "1                                  3           89   \n",
       "2                                  4           67   \n",
       "3                                  3           89   \n",
       "4                                  3           40   \n",
       "\n",
       "   Restaur_spend_greater_than20 Travel Time Climate  drop location  \\\n",
       "0                         less1          22  Spring     Location B   \n",
       "1                           1~3          18  Summer     Location B   \n",
       "2                         less1           7  Winter     Location A   \n",
       "3                           1~3           7  Summer     Location C   \n",
       "4                         less1           7  Summer     Location C   \n",
       "\n",
       "  Prefer home food  \n",
       "0                0  \n",
       "1                0  \n",
       "2                1  \n",
       "3                0  \n",
       "4                0  \n",
       "\n",
       "[5 rows x 30 columns]"
      ]
     },
     "execution_count": 8,
     "metadata": {},
     "output_type": "execute_result"
    }
   ],
   "source": [
    "# constructing feature and label dataset\n",
    "x=data.drop(['Offer Accepted'],axis=1)\n",
    "y=data.loc[:,['Offer Accepted']]\n",
    "x.head()"
   ]
  },
  {
   "cell_type": "markdown",
   "id": "f85a7c25",
   "metadata": {
    "papermill": {
     "duration": 0.008985,
     "end_time": "2022-12-18T07:26:20.242872",
     "exception": false,
     "start_time": "2022-12-18T07:26:20.233887",
     "status": "completed"
    },
    "tags": []
   },
   "source": [
    "**Preprocessing Steps**"
   ]
  },
  {
   "cell_type": "code",
   "execution_count": 9,
   "id": "ae038a89",
   "metadata": {
    "execution": {
     "iopub.execute_input": "2022-12-18T07:26:20.263171Z",
     "iopub.status.busy": "2022-12-18T07:26:20.262547Z",
     "iopub.status.idle": "2022-12-18T07:26:20.305071Z",
     "shell.execute_reply": "2022-12-18T07:26:20.303536Z"
    },
    "papermill": {
     "duration": 0.05488,
     "end_time": "2022-12-18T07:26:20.307396",
     "exception": false,
     "start_time": "2022-12-18T07:26:20.252516",
     "status": "completed"
    },
    "tags": []
   },
   "outputs": [],
   "source": [
    "x=x.fillna(x.mode().iloc[0])  #filling of missing values using strategy as mode\n",
    "#x.isna().sum()"
   ]
  },
  {
   "cell_type": "code",
   "execution_count": 10,
   "id": "fb717708",
   "metadata": {
    "execution": {
     "iopub.execute_input": "2022-12-18T07:26:20.326137Z",
     "iopub.status.busy": "2022-12-18T07:26:20.325696Z",
     "iopub.status.idle": "2022-12-18T07:26:20.337901Z",
     "shell.execute_reply": "2022-12-18T07:26:20.336249Z"
    },
    "papermill": {
     "duration": 0.024055,
     "end_time": "2022-12-18T07:26:20.340202",
     "exception": false,
     "start_time": "2022-12-18T07:26:20.316147",
     "status": "completed"
    },
    "tags": []
   },
   "outputs": [],
   "source": [
    "# array of numeric features\n",
    "num_feat=['travelled_more_than_15mins_for_offer',\n",
    "          'Prefer western over chinese',\n",
    "          'travelled_more_than_25mins_for_offer',\n",
    "          'travelled_more_than_5mins_for_offer',\n",
    "          'restuarant_same_direction_house',\n",
    "        'Cooks regularly',\n",
    "    'is foodie',\n",
    "    'restuarant_opposite_direction_house',\n",
    "    'has Children',\n",
    "    'visit restaurant with rating (avg)',\n",
    "    'temperature',\n",
    "    'Travel Time',\n",
    "    'Prefer home food']\n",
    "\n",
    "# array to categorical features \n",
    "cat_feat=['offer expiration', 'income_range', 'no_visited_Cold drinks','Restaur_spend_less_than20',\n",
    "       'Marital Status', 'restaurant type', 'age','no_visited_bars','gender','Customer type', 'Qualification','no_Take-aways',\n",
    "       'Job/Job Industry','Restaur_spend_greater_than20','Climate',\n",
    "       'drop location']\n",
    "\n",
    "#array of ordinal categorical features\n",
    "cat_feat_ord=['offer expiration', 'income_range', 'no_visited_Cold drinks',\n",
    "              'Restaur_spend_less_than20','age','no_visited_bars','Qualification','no_Take-aways',\n",
    "             'Restaur_spend_greater_than20']\n",
    "\n",
    "#array of nominal categorical features\n",
    "cat_feat_nom=['Marital Status','restaurant type','gender','car','Customer type','Job/Job Industry',\n",
    "              'Climate','drop location']\n",
    "\n",
    "# following are the arrays constructed that will be used for ordinal encoding of ordinal features\n",
    "# There are in total of 9 ordinal features in the dataset\n",
    "\n",
    "ord1=['10hours','2days']\n",
    "ord2=['Less than ₹12500','₹12500 - ₹24999','₹25000 - ₹37499',\n",
    "      '₹37500 - ₹49999','₹50000 - ₹62499','₹62500 - ₹74999',\n",
    "      '₹75000 - ₹87499','₹87500 - ₹99999','₹100000 or More']\n",
    "ord3=['never','less1','1~3','4~8', 'gt8']\n",
    "ord4=['never','less1','1~3','4~8','gt8']\n",
    "ord5=['below21','21','26','31','36','41','46','50plus'] #age\n",
    "ord6=['never','less1','1~3', '4~8', 'gt8']\n",
    "ord7=['Some High School','High School Graduate','Some college - no degree','Bachelors degree',\n",
    "      'Associates degree','Graduate degree (Masters or Doctorate)']\n",
    "ord8=['never','less1','1~3','4~8','gt8']\n",
    "ord9=['never','less1','1~3','4~8','gt8']\n",
    "ord_arr=[ord1,ord2,ord3,ord4,ord5,ord6,ord7,ord8,ord9]"
   ]
  },
  {
   "cell_type": "code",
   "execution_count": 11,
   "id": "8322cf75",
   "metadata": {
    "execution": {
     "iopub.execute_input": "2022-12-18T07:26:20.359344Z",
     "iopub.status.busy": "2022-12-18T07:26:20.358577Z",
     "iopub.status.idle": "2022-12-18T07:26:21.298947Z",
     "shell.execute_reply": "2022-12-18T07:26:21.297932Z"
    },
    "papermill": {
     "duration": 0.953269,
     "end_time": "2022-12-18T07:26:21.301918",
     "exception": false,
     "start_time": "2022-12-18T07:26:20.348649",
     "status": "completed"
    },
    "tags": []
   },
   "outputs": [],
   "source": [
    "from sklearn.preprocessing import OrdinalEncoder, LabelEncoder\n",
    "\n",
    "#fill missing values\n",
    "def fillMissing(test):\n",
    "    test=test.fillna(test.mode().iloc[0])\n",
    "    return test\n",
    "\n",
    "#function for appeding numeric features without any need of preprocessing\n",
    "def initialProcessing(test,num_feat):    \n",
    "    test=test.fillna(test.mode().iloc[0])\n",
    "    X_test=pd.DataFrame(test[num_feat])\n",
    "    return X_test\n",
    "\n",
    "#function to preprocess nominal categorical features using pd.get_dummies() \n",
    "def nominalEncoding(test,X_test,cat_feat_nom): \n",
    "    \"\"\"for i in cat_feat_nom:\n",
    "        le=LabelEncoder()\n",
    "        X_test[i]=le.fit_transform(test[[i]])\n",
    "    return X_test\"\"\"\n",
    "    X_test=pd.get_dummies(test,columns=cat_feat_nom)\n",
    "    return X_test\n",
    "\n",
    "#function to preprocess ordinal categorical features using ordinal encoding     \n",
    "def ordinalTransform(test,X_test,ord_arr,cat_feat_ord):   \n",
    "    for i in range(len(ord_arr)):\n",
    "        oe=OrdinalEncoder(categories=[ord_arr[i]])\n",
    "        X_test[cat_feat_ord[i]]=oe.fit_transform(test[[cat_feat_ord[i]]])\n",
    "    return X_test"
   ]
  },
  {
   "cell_type": "code",
   "execution_count": 12,
   "id": "73e6b700",
   "metadata": {
    "execution": {
     "iopub.execute_input": "2022-12-18T07:26:21.321331Z",
     "iopub.status.busy": "2022-12-18T07:26:21.320917Z",
     "iopub.status.idle": "2022-12-18T07:26:21.485951Z",
     "shell.execute_reply": "2022-12-18T07:26:21.484763Z"
    },
    "papermill": {
     "duration": 0.17673,
     "end_time": "2022-12-18T07:26:21.487965",
     "exception": false,
     "start_time": "2022-12-18T07:26:21.311235",
     "status": "completed"
    },
    "tags": []
   },
   "outputs": [
    {
     "data": {
      "text/html": [
       "<div>\n",
       "<style scoped>\n",
       "    .dataframe tbody tr th:only-of-type {\n",
       "        vertical-align: middle;\n",
       "    }\n",
       "\n",
       "    .dataframe tbody tr th {\n",
       "        vertical-align: top;\n",
       "    }\n",
       "\n",
       "    .dataframe thead th {\n",
       "        text-align: right;\n",
       "    }\n",
       "</style>\n",
       "<table border=\"1\" class=\"dataframe\">\n",
       "  <thead>\n",
       "    <tr style=\"text-align: right;\">\n",
       "      <th></th>\n",
       "      <th>offer expiration</th>\n",
       "      <th>income_range</th>\n",
       "      <th>no_visited_Cold drinks</th>\n",
       "      <th>travelled_more_than_15mins_for_offer</th>\n",
       "      <th>Restaur_spend_less_than20</th>\n",
       "      <th>age</th>\n",
       "      <th>Prefer western over chinese</th>\n",
       "      <th>travelled_more_than_25mins_for_offer</th>\n",
       "      <th>travelled_more_than_5mins_for_offer</th>\n",
       "      <th>no_visited_bars</th>\n",
       "      <th>...</th>\n",
       "      <th>Job/Job Industry_Sales &amp; Related</th>\n",
       "      <th>Job/Job Industry_Student</th>\n",
       "      <th>Job/Job Industry_Transportation &amp; Material Moving</th>\n",
       "      <th>Job/Job Industry_Unemployed</th>\n",
       "      <th>Climate_Spring</th>\n",
       "      <th>Climate_Summer</th>\n",
       "      <th>Climate_Winter</th>\n",
       "      <th>drop location_Location A</th>\n",
       "      <th>drop location_Location B</th>\n",
       "      <th>drop location_Location C</th>\n",
       "    </tr>\n",
       "  </thead>\n",
       "  <tbody>\n",
       "    <tr>\n",
       "      <th>0</th>\n",
       "      <td>1.0</td>\n",
       "      <td>8.0</td>\n",
       "      <td>3.0</td>\n",
       "      <td>1</td>\n",
       "      <td>1.0</td>\n",
       "      <td>4.0</td>\n",
       "      <td>0</td>\n",
       "      <td>0</td>\n",
       "      <td>1</td>\n",
       "      <td>1.0</td>\n",
       "      <td>...</td>\n",
       "      <td>0</td>\n",
       "      <td>0</td>\n",
       "      <td>0</td>\n",
       "      <td>1</td>\n",
       "      <td>1</td>\n",
       "      <td>0</td>\n",
       "      <td>0</td>\n",
       "      <td>0</td>\n",
       "      <td>1</td>\n",
       "      <td>0</td>\n",
       "    </tr>\n",
       "    <tr>\n",
       "      <th>1</th>\n",
       "      <td>1.0</td>\n",
       "      <td>7.0</td>\n",
       "      <td>3.0</td>\n",
       "      <td>0</td>\n",
       "      <td>3.0</td>\n",
       "      <td>7.0</td>\n",
       "      <td>0</td>\n",
       "      <td>0</td>\n",
       "      <td>1</td>\n",
       "      <td>0.0</td>\n",
       "      <td>...</td>\n",
       "      <td>0</td>\n",
       "      <td>0</td>\n",
       "      <td>0</td>\n",
       "      <td>1</td>\n",
       "      <td>0</td>\n",
       "      <td>1</td>\n",
       "      <td>0</td>\n",
       "      <td>0</td>\n",
       "      <td>1</td>\n",
       "      <td>0</td>\n",
       "    </tr>\n",
       "    <tr>\n",
       "      <th>2</th>\n",
       "      <td>1.0</td>\n",
       "      <td>7.0</td>\n",
       "      <td>1.0</td>\n",
       "      <td>1</td>\n",
       "      <td>2.0</td>\n",
       "      <td>2.0</td>\n",
       "      <td>1</td>\n",
       "      <td>0</td>\n",
       "      <td>1</td>\n",
       "      <td>0.0</td>\n",
       "      <td>...</td>\n",
       "      <td>0</td>\n",
       "      <td>0</td>\n",
       "      <td>0</td>\n",
       "      <td>0</td>\n",
       "      <td>0</td>\n",
       "      <td>0</td>\n",
       "      <td>1</td>\n",
       "      <td>1</td>\n",
       "      <td>0</td>\n",
       "      <td>0</td>\n",
       "    </tr>\n",
       "    <tr>\n",
       "      <th>3</th>\n",
       "      <td>0.0</td>\n",
       "      <td>3.0</td>\n",
       "      <td>1.0</td>\n",
       "      <td>0</td>\n",
       "      <td>2.0</td>\n",
       "      <td>6.0</td>\n",
       "      <td>1</td>\n",
       "      <td>0</td>\n",
       "      <td>1</td>\n",
       "      <td>0.0</td>\n",
       "      <td>...</td>\n",
       "      <td>1</td>\n",
       "      <td>0</td>\n",
       "      <td>0</td>\n",
       "      <td>0</td>\n",
       "      <td>0</td>\n",
       "      <td>1</td>\n",
       "      <td>0</td>\n",
       "      <td>0</td>\n",
       "      <td>0</td>\n",
       "      <td>1</td>\n",
       "    </tr>\n",
       "    <tr>\n",
       "      <th>4</th>\n",
       "      <td>1.0</td>\n",
       "      <td>8.0</td>\n",
       "      <td>0.0</td>\n",
       "      <td>1</td>\n",
       "      <td>2.0</td>\n",
       "      <td>1.0</td>\n",
       "      <td>0</td>\n",
       "      <td>1</td>\n",
       "      <td>1</td>\n",
       "      <td>1.0</td>\n",
       "      <td>...</td>\n",
       "      <td>1</td>\n",
       "      <td>0</td>\n",
       "      <td>0</td>\n",
       "      <td>0</td>\n",
       "      <td>0</td>\n",
       "      <td>1</td>\n",
       "      <td>0</td>\n",
       "      <td>0</td>\n",
       "      <td>0</td>\n",
       "      <td>1</td>\n",
       "    </tr>\n",
       "  </tbody>\n",
       "</table>\n",
       "<p>5 rows × 74 columns</p>\n",
       "</div>"
      ],
      "text/plain": [
       "   offer expiration  income_range  no_visited_Cold drinks  \\\n",
       "0               1.0           8.0                     3.0   \n",
       "1               1.0           7.0                     3.0   \n",
       "2               1.0           7.0                     1.0   \n",
       "3               0.0           3.0                     1.0   \n",
       "4               1.0           8.0                     0.0   \n",
       "\n",
       "   travelled_more_than_15mins_for_offer  Restaur_spend_less_than20  age  \\\n",
       "0                                     1                        1.0  4.0   \n",
       "1                                     0                        3.0  7.0   \n",
       "2                                     1                        2.0  2.0   \n",
       "3                                     0                        2.0  6.0   \n",
       "4                                     1                        2.0  1.0   \n",
       "\n",
       "   Prefer western over chinese  travelled_more_than_25mins_for_offer  \\\n",
       "0                            0                                     0   \n",
       "1                            0                                     0   \n",
       "2                            1                                     0   \n",
       "3                            1                                     0   \n",
       "4                            0                                     1   \n",
       "\n",
       "   travelled_more_than_5mins_for_offer  no_visited_bars  ...  \\\n",
       "0                                    1              1.0  ...   \n",
       "1                                    1              0.0  ...   \n",
       "2                                    1              0.0  ...   \n",
       "3                                    1              0.0  ...   \n",
       "4                                    1              1.0  ...   \n",
       "\n",
       "   Job/Job Industry_Sales & Related  Job/Job Industry_Student  \\\n",
       "0                                 0                         0   \n",
       "1                                 0                         0   \n",
       "2                                 0                         0   \n",
       "3                                 1                         0   \n",
       "4                                 1                         0   \n",
       "\n",
       "   Job/Job Industry_Transportation & Material Moving  \\\n",
       "0                                                  0   \n",
       "1                                                  0   \n",
       "2                                                  0   \n",
       "3                                                  0   \n",
       "4                                                  0   \n",
       "\n",
       "   Job/Job Industry_Unemployed  Climate_Spring  Climate_Summer  \\\n",
       "0                            1               1               0   \n",
       "1                            1               0               1   \n",
       "2                            0               0               0   \n",
       "3                            0               0               1   \n",
       "4                            0               0               1   \n",
       "\n",
       "   Climate_Winter  drop location_Location A  drop location_Location B  \\\n",
       "0               0                         0                         1   \n",
       "1               0                         0                         1   \n",
       "2               1                         1                         0   \n",
       "3               0                         0                         0   \n",
       "4               0                         0                         0   \n",
       "\n",
       "   drop location_Location C  \n",
       "0                         0  \n",
       "1                         0  \n",
       "2                         0  \n",
       "3                         1  \n",
       "4                         1  \n",
       "\n",
       "[5 rows x 74 columns]"
      ]
     },
     "execution_count": 12,
     "metadata": {},
     "output_type": "execute_result"
    }
   ],
   "source": [
    "train=fillMissing(x)\n",
    "train1=initialProcessing(train,num_feat)\n",
    "train2=nominalEncoding(train,train1,cat_feat_nom)\n",
    "X=ordinalTransform(train,train2,ord_arr,cat_feat_ord)\n",
    "X.head()"
   ]
  },
  {
   "cell_type": "code",
   "execution_count": 13,
   "id": "868137d1",
   "metadata": {
    "execution": {
     "iopub.execute_input": "2022-12-18T07:26:21.506421Z",
     "iopub.status.busy": "2022-12-18T07:26:21.505952Z",
     "iopub.status.idle": "2022-12-18T07:26:21.593068Z",
     "shell.execute_reply": "2022-12-18T07:26:21.591678Z"
    },
    "papermill": {
     "duration": 0.098974,
     "end_time": "2022-12-18T07:26:21.595384",
     "exception": false,
     "start_time": "2022-12-18T07:26:21.496410",
     "status": "completed"
    },
    "tags": []
   },
   "outputs": [
    {
     "data": {
      "text/html": [
       "<div>\n",
       "<style scoped>\n",
       "    .dataframe tbody tr th:only-of-type {\n",
       "        vertical-align: middle;\n",
       "    }\n",
       "\n",
       "    .dataframe tbody tr th {\n",
       "        vertical-align: top;\n",
       "    }\n",
       "\n",
       "    .dataframe thead th {\n",
       "        text-align: right;\n",
       "    }\n",
       "</style>\n",
       "<table border=\"1\" class=\"dataframe\">\n",
       "  <thead>\n",
       "    <tr style=\"text-align: right;\">\n",
       "      <th></th>\n",
       "      <th>offer expiration</th>\n",
       "      <th>income_range</th>\n",
       "      <th>no_visited_Cold drinks</th>\n",
       "      <th>travelled_more_than_15mins_for_offer</th>\n",
       "      <th>Restaur_spend_less_than20</th>\n",
       "      <th>age</th>\n",
       "      <th>Prefer western over chinese</th>\n",
       "      <th>travelled_more_than_25mins_for_offer</th>\n",
       "      <th>travelled_more_than_5mins_for_offer</th>\n",
       "      <th>no_visited_bars</th>\n",
       "      <th>...</th>\n",
       "      <th>Job/Job Industry_Sales &amp; Related</th>\n",
       "      <th>Job/Job Industry_Student</th>\n",
       "      <th>Job/Job Industry_Transportation &amp; Material Moving</th>\n",
       "      <th>Job/Job Industry_Unemployed</th>\n",
       "      <th>Climate_Spring</th>\n",
       "      <th>Climate_Summer</th>\n",
       "      <th>Climate_Winter</th>\n",
       "      <th>drop location_Location A</th>\n",
       "      <th>drop location_Location B</th>\n",
       "      <th>drop location_Location C</th>\n",
       "    </tr>\n",
       "  </thead>\n",
       "  <tbody>\n",
       "    <tr>\n",
       "      <th>1691</th>\n",
       "      <td>1.0</td>\n",
       "      <td>3.0</td>\n",
       "      <td>0.0</td>\n",
       "      <td>1</td>\n",
       "      <td>2.0</td>\n",
       "      <td>4.0</td>\n",
       "      <td>0</td>\n",
       "      <td>0</td>\n",
       "      <td>1</td>\n",
       "      <td>1.0</td>\n",
       "      <td>...</td>\n",
       "      <td>0</td>\n",
       "      <td>0</td>\n",
       "      <td>0</td>\n",
       "      <td>0</td>\n",
       "      <td>0</td>\n",
       "      <td>1</td>\n",
       "      <td>0</td>\n",
       "      <td>0</td>\n",
       "      <td>1</td>\n",
       "      <td>0</td>\n",
       "    </tr>\n",
       "    <tr>\n",
       "      <th>8979</th>\n",
       "      <td>1.0</td>\n",
       "      <td>2.0</td>\n",
       "      <td>3.0</td>\n",
       "      <td>0</td>\n",
       "      <td>2.0</td>\n",
       "      <td>2.0</td>\n",
       "      <td>1</td>\n",
       "      <td>0</td>\n",
       "      <td>1</td>\n",
       "      <td>1.0</td>\n",
       "      <td>...</td>\n",
       "      <td>0</td>\n",
       "      <td>0</td>\n",
       "      <td>0</td>\n",
       "      <td>0</td>\n",
       "      <td>1</td>\n",
       "      <td>0</td>\n",
       "      <td>0</td>\n",
       "      <td>0</td>\n",
       "      <td>1</td>\n",
       "      <td>0</td>\n",
       "    </tr>\n",
       "  </tbody>\n",
       "</table>\n",
       "<p>2 rows × 74 columns</p>\n",
       "</div>"
      ],
      "text/plain": [
       "      offer expiration  income_range  no_visited_Cold drinks  \\\n",
       "1691               1.0           3.0                     0.0   \n",
       "8979               1.0           2.0                     3.0   \n",
       "\n",
       "      travelled_more_than_15mins_for_offer  Restaur_spend_less_than20  age  \\\n",
       "1691                                     1                        2.0  4.0   \n",
       "8979                                     0                        2.0  2.0   \n",
       "\n",
       "      Prefer western over chinese  travelled_more_than_25mins_for_offer  \\\n",
       "1691                            0                                     0   \n",
       "8979                            1                                     0   \n",
       "\n",
       "      travelled_more_than_5mins_for_offer  no_visited_bars  ...  \\\n",
       "1691                                    1              1.0  ...   \n",
       "8979                                    1              1.0  ...   \n",
       "\n",
       "      Job/Job Industry_Sales & Related  Job/Job Industry_Student  \\\n",
       "1691                                 0                         0   \n",
       "8979                                 0                         0   \n",
       "\n",
       "      Job/Job Industry_Transportation & Material Moving  \\\n",
       "1691                                                  0   \n",
       "8979                                                  0   \n",
       "\n",
       "      Job/Job Industry_Unemployed  Climate_Spring  Climate_Summer  \\\n",
       "1691                            0               0               1   \n",
       "8979                            0               1               0   \n",
       "\n",
       "      Climate_Winter  drop location_Location A  drop location_Location B  \\\n",
       "1691               0                         0                         1   \n",
       "8979               0                         0                         1   \n",
       "\n",
       "      drop location_Location C  \n",
       "1691                         0  \n",
       "8979                         0  \n",
       "\n",
       "[2 rows x 74 columns]"
      ]
     },
     "execution_count": 13,
     "metadata": {},
     "output_type": "execute_result"
    }
   ],
   "source": [
    "from sklearn.model_selection import train_test_split\n",
    "x_train,x_test,y_train,y_test=train_test_split(X,y,test_size=0.2,random_state=42)    #Train and Test datasets for trial purpose\n",
    "x_train.head(2)"
   ]
  },
  {
   "cell_type": "code",
   "execution_count": 14,
   "id": "0f6a38f2",
   "metadata": {
    "execution": {
     "iopub.execute_input": "2022-12-18T07:26:21.614565Z",
     "iopub.status.busy": "2022-12-18T07:26:21.614214Z",
     "iopub.status.idle": "2022-12-18T07:26:21.814555Z",
     "shell.execute_reply": "2022-12-18T07:26:21.813223Z"
    },
    "papermill": {
     "duration": 0.212711,
     "end_time": "2022-12-18T07:26:21.816889",
     "exception": false,
     "start_time": "2022-12-18T07:26:21.604178",
     "status": "completed"
    },
    "tags": []
   },
   "outputs": [],
   "source": [
    "from sklearn.ensemble import GradientBoostingClassifier, RandomForestClassifier\n",
    "from sklearn.neighbors import KNeighborsClassifier\n",
    "from sklearn.linear_model import LogisticRegression\n",
    "from sklearn.metrics import accuracy_score,f1_score,classification_report"
   ]
  },
  {
   "cell_type": "markdown",
   "id": "4d9539cf",
   "metadata": {
    "papermill": {
     "duration": 0.008122,
     "end_time": "2022-12-18T07:26:21.833722",
     "exception": false,
     "start_time": "2022-12-18T07:26:21.825600",
     "status": "completed"
    },
    "tags": []
   },
   "source": [
    "**Model 1- Gradient Boosting Classifier**"
   ]
  },
  {
   "cell_type": "code",
   "execution_count": 15,
   "id": "f7aceb9c",
   "metadata": {
    "execution": {
     "iopub.execute_input": "2022-12-18T07:26:21.852738Z",
     "iopub.status.busy": "2022-12-18T07:26:21.852367Z",
     "iopub.status.idle": "2022-12-18T07:26:23.778196Z",
     "shell.execute_reply": "2022-12-18T07:26:23.776365Z"
    },
    "papermill": {
     "duration": 1.938649,
     "end_time": "2022-12-18T07:26:23.781153",
     "exception": false,
     "start_time": "2022-12-18T07:26:21.842504",
     "status": "completed"
    },
    "tags": []
   },
   "outputs": [
    {
     "name": "stderr",
     "output_type": "stream",
     "text": [
      "/opt/conda/lib/python3.7/site-packages/sklearn/ensemble/_gb.py:494: DataConversionWarning: A column-vector y was passed when a 1d array was expected. Please change the shape of y to (n_samples, ), for example using ravel().\n",
      "  y = column_or_1d(y, warn=True)\n"
     ]
    },
    {
     "data": {
      "text/plain": [
       "0.6604059375946683"
      ]
     },
     "execution_count": 15,
     "metadata": {},
     "output_type": "execute_result"
    }
   ],
   "source": [
    "gbc=GradientBoostingClassifier()\n",
    "gbc.fit(x_train,y_train)\n",
    "gbc.score(x_train,y_train) "
   ]
  },
  {
   "cell_type": "code",
   "execution_count": 16,
   "id": "cddd0471",
   "metadata": {
    "execution": {
     "iopub.execute_input": "2022-12-18T07:26:23.802135Z",
     "iopub.status.busy": "2022-12-18T07:26:23.801725Z",
     "iopub.status.idle": "2022-12-18T07:26:23.875862Z",
     "shell.execute_reply": "2022-12-18T07:26:23.874326Z"
    },
    "papermill": {
     "duration": 0.087347,
     "end_time": "2022-12-18T07:26:23.877922",
     "exception": false,
     "start_time": "2022-12-18T07:26:23.790575",
     "status": "completed"
    },
    "tags": []
   },
   "outputs": [
    {
     "name": "stdout",
     "output_type": "stream",
     "text": [
      "              precision    recall  f1-score   support\n",
      "\n",
      "          No       0.63      0.40      0.49      1105\n",
      "         Yes       0.63      0.81      0.71      1371\n",
      "\n",
      "    accuracy                           0.63      2476\n",
      "   macro avg       0.63      0.61      0.60      2476\n",
      "weighted avg       0.63      0.63      0.61      2476\n",
      "\n"
     ]
    }
   ],
   "source": [
    "y_predgbc=gbc.predict(x_test)\n",
    "print(classification_report(y_test,y_predgbc))"
   ]
  },
  {
   "cell_type": "markdown",
   "id": "cf55a970",
   "metadata": {
    "papermill": {
     "duration": 0.008695,
     "end_time": "2022-12-18T07:26:23.895659",
     "exception": false,
     "start_time": "2022-12-18T07:26:23.886964",
     "status": "completed"
    },
    "tags": []
   },
   "source": [
    "**Model 2-Random Forest Classifier**"
   ]
  },
  {
   "cell_type": "code",
   "execution_count": 17,
   "id": "72a05f72",
   "metadata": {
    "execution": {
     "iopub.execute_input": "2022-12-18T07:26:23.915582Z",
     "iopub.status.busy": "2022-12-18T07:26:23.915246Z",
     "iopub.status.idle": "2022-12-18T07:26:25.686999Z",
     "shell.execute_reply": "2022-12-18T07:26:25.685595Z"
    },
    "papermill": {
     "duration": 1.784816,
     "end_time": "2022-12-18T07:26:25.689649",
     "exception": false,
     "start_time": "2022-12-18T07:26:23.904833",
     "status": "completed"
    },
    "tags": []
   },
   "outputs": [
    {
     "name": "stderr",
     "output_type": "stream",
     "text": [
      "/opt/conda/lib/python3.7/site-packages/ipykernel_launcher.py:2: DataConversionWarning: A column-vector y was passed when a 1d array was expected. Please change the shape of y to (n_samples,), for example using ravel().\n",
      "  \n"
     ]
    },
    {
     "data": {
      "text/plain": [
       "1.0"
      ]
     },
     "execution_count": 17,
     "metadata": {},
     "output_type": "execute_result"
    }
   ],
   "source": [
    "rfc=RandomForestClassifier()\n",
    "rfc.fit(x_train,y_train)               \n",
    "rfc.score(x_train,y_train)"
   ]
  },
  {
   "cell_type": "code",
   "execution_count": 18,
   "id": "bb6c4b37",
   "metadata": {
    "execution": {
     "iopub.execute_input": "2022-12-18T07:26:25.709911Z",
     "iopub.status.busy": "2022-12-18T07:26:25.709482Z",
     "iopub.status.idle": "2022-12-18T07:26:25.844385Z",
     "shell.execute_reply": "2022-12-18T07:26:25.843150Z"
    },
    "papermill": {
     "duration": 0.147471,
     "end_time": "2022-12-18T07:26:25.846664",
     "exception": false,
     "start_time": "2022-12-18T07:26:25.699193",
     "status": "completed"
    },
    "tags": []
   },
   "outputs": [
    {
     "name": "stdout",
     "output_type": "stream",
     "text": [
      "              precision    recall  f1-score   support\n",
      "\n",
      "          No       0.61      0.41      0.49      1105\n",
      "         Yes       0.62      0.80      0.70      1371\n",
      "\n",
      "    accuracy                           0.62      2476\n",
      "   macro avg       0.62      0.60      0.59      2476\n",
      "weighted avg       0.62      0.62      0.61      2476\n",
      "\n"
     ]
    }
   ],
   "source": [
    "y_predrfc=rfc.predict(x_test)\n",
    "print(classification_report(y_test,y_predrfc))"
   ]
  },
  {
   "cell_type": "markdown",
   "id": "f78e410b",
   "metadata": {
    "papermill": {
     "duration": 0.008996,
     "end_time": "2022-12-18T07:26:25.865567",
     "exception": false,
     "start_time": "2022-12-18T07:26:25.856571",
     "status": "completed"
    },
    "tags": []
   },
   "source": [
    "**Model 3-K Nearest Neighbour Classifier**"
   ]
  },
  {
   "cell_type": "code",
   "execution_count": 19,
   "id": "3db43411",
   "metadata": {
    "execution": {
     "iopub.execute_input": "2022-12-18T07:26:25.885076Z",
     "iopub.status.busy": "2022-12-18T07:26:25.884602Z",
     "iopub.status.idle": "2022-12-18T07:26:27.843515Z",
     "shell.execute_reply": "2022-12-18T07:26:27.842466Z"
    },
    "papermill": {
     "duration": 1.970762,
     "end_time": "2022-12-18T07:26:27.845338",
     "exception": false,
     "start_time": "2022-12-18T07:26:25.874576",
     "status": "completed"
    },
    "tags": []
   },
   "outputs": [
    {
     "name": "stderr",
     "output_type": "stream",
     "text": [
      "/opt/conda/lib/python3.7/site-packages/sklearn/neighbors/_classification.py:198: DataConversionWarning: A column-vector y was passed when a 1d array was expected. Please change the shape of y to (n_samples,), for example using ravel().\n",
      "  return self._fit(X, y)\n"
     ]
    },
    {
     "data": {
      "text/plain": [
       "0.7212965767949107"
      ]
     },
     "execution_count": 19,
     "metadata": {},
     "output_type": "execute_result"
    }
   ],
   "source": [
    "knn=KNeighborsClassifier(n_neighbors=5)\n",
    "knn.fit(x_train,y_train)\n",
    "knn.score(x_train,y_train)"
   ]
  },
  {
   "cell_type": "code",
   "execution_count": 20,
   "id": "73f268ab",
   "metadata": {
    "execution": {
     "iopub.execute_input": "2022-12-18T07:26:27.865602Z",
     "iopub.status.busy": "2022-12-18T07:26:27.864640Z",
     "iopub.status.idle": "2022-12-18T07:26:28.408046Z",
     "shell.execute_reply": "2022-12-18T07:26:28.406749Z"
    },
    "papermill": {
     "duration": 0.557119,
     "end_time": "2022-12-18T07:26:28.411607",
     "exception": false,
     "start_time": "2022-12-18T07:26:27.854488",
     "status": "completed"
    },
    "tags": []
   },
   "outputs": [
    {
     "name": "stdout",
     "output_type": "stream",
     "text": [
      "              precision    recall  f1-score   support\n",
      "\n",
      "          No       0.51      0.43      0.47      1105\n",
      "         Yes       0.59      0.67      0.63      1371\n",
      "\n",
      "    accuracy                           0.56      2476\n",
      "   macro avg       0.55      0.55      0.55      2476\n",
      "weighted avg       0.56      0.56      0.56      2476\n",
      "\n"
     ]
    }
   ],
   "source": [
    "y_predknn=knn.predict(x_test)\n",
    "print(classification_report(y_test,y_predknn))"
   ]
  },
  {
   "cell_type": "markdown",
   "id": "dd55b9d9",
   "metadata": {
    "papermill": {
     "duration": 0.008956,
     "end_time": "2022-12-18T07:26:28.430411",
     "exception": false,
     "start_time": "2022-12-18T07:26:28.421455",
     "status": "completed"
    },
    "tags": []
   },
   "source": [
    "**Model 3-Logistic Regression**"
   ]
  },
  {
   "cell_type": "code",
   "execution_count": 21,
   "id": "8f193e5f",
   "metadata": {
    "execution": {
     "iopub.execute_input": "2022-12-18T07:26:28.450769Z",
     "iopub.status.busy": "2022-12-18T07:26:28.450398Z",
     "iopub.status.idle": "2022-12-18T07:26:28.623148Z",
     "shell.execute_reply": "2022-12-18T07:26:28.622187Z"
    },
    "papermill": {
     "duration": 0.185324,
     "end_time": "2022-12-18T07:26:28.624957",
     "exception": false,
     "start_time": "2022-12-18T07:26:28.439633",
     "status": "completed"
    },
    "tags": []
   },
   "outputs": [
    {
     "name": "stderr",
     "output_type": "stream",
     "text": [
      "/opt/conda/lib/python3.7/site-packages/sklearn/utils/validation.py:993: DataConversionWarning: A column-vector y was passed when a 1d array was expected. Please change the shape of y to (n_samples, ), for example using ravel().\n",
      "  y = column_or_1d(y, warn=True)\n",
      "/opt/conda/lib/python3.7/site-packages/sklearn/linear_model/_logistic.py:818: ConvergenceWarning: lbfgs failed to converge (status=1):\n",
      "STOP: TOTAL NO. of ITERATIONS REACHED LIMIT.\n",
      "\n",
      "Increase the number of iterations (max_iter) or scale the data as shown in:\n",
      "    https://scikit-learn.org/stable/modules/preprocessing.html\n",
      "Please also refer to the documentation for alternative solver options:\n",
      "    https://scikit-learn.org/stable/modules/linear_model.html#logistic-regression\n",
      "  extra_warning_msg=_LOGISTIC_SOLVER_CONVERGENCE_MSG,\n"
     ]
    },
    {
     "data": {
      "text/plain": [
       "0.6163788750883571"
      ]
     },
     "execution_count": 21,
     "metadata": {},
     "output_type": "execute_result"
    }
   ],
   "source": [
    "lr=LogisticRegression()\n",
    "lr.fit(x_train,y_train)\n",
    "lr.score(x_train,y_train)"
   ]
  },
  {
   "cell_type": "code",
   "execution_count": 22,
   "id": "79f6ee57",
   "metadata": {
    "execution": {
     "iopub.execute_input": "2022-12-18T07:26:28.650255Z",
     "iopub.status.busy": "2022-12-18T07:26:28.649819Z",
     "iopub.status.idle": "2022-12-18T07:26:28.747278Z",
     "shell.execute_reply": "2022-12-18T07:26:28.746490Z"
    },
    "papermill": {
     "duration": 0.112631,
     "end_time": "2022-12-18T07:26:28.749356",
     "exception": false,
     "start_time": "2022-12-18T07:26:28.636725",
     "status": "completed"
    },
    "tags": []
   },
   "outputs": [
    {
     "name": "stdout",
     "output_type": "stream",
     "text": [
      "              precision    recall  f1-score   support\n",
      "\n",
      "          No       0.59      0.40      0.48      1105\n",
      "         Yes       0.62      0.78      0.69      1371\n",
      "\n",
      "    accuracy                           0.61      2476\n",
      "   macro avg       0.60      0.59      0.58      2476\n",
      "weighted avg       0.61      0.61      0.59      2476\n",
      "\n"
     ]
    }
   ],
   "source": [
    "y_predlr=lr.predict(x_test)\n",
    "print(classification_report(y_test,y_predlr))"
   ]
  },
  {
   "cell_type": "code",
   "execution_count": 23,
   "id": "8d0ebd2f",
   "metadata": {
    "execution": {
     "iopub.execute_input": "2022-12-18T07:26:28.775819Z",
     "iopub.status.busy": "2022-12-18T07:26:28.775436Z",
     "iopub.status.idle": "2022-12-18T07:26:28.819203Z",
     "shell.execute_reply": "2022-12-18T07:26:28.817602Z"
    },
    "papermill": {
     "duration": 0.060315,
     "end_time": "2022-12-18T07:26:28.821638",
     "exception": false,
     "start_time": "2022-12-18T07:26:28.761323",
     "status": "completed"
    },
    "tags": []
   },
   "outputs": [],
   "source": [
    "test_data=pd.read_csv('/kaggle/input/marketing-strategy-personalised-offer/test_data.csv')"
   ]
  },
  {
   "cell_type": "code",
   "execution_count": 24,
   "id": "8f78e860",
   "metadata": {
    "execution": {
     "iopub.execute_input": "2022-12-18T07:26:28.842142Z",
     "iopub.status.busy": "2022-12-18T07:26:28.841750Z",
     "iopub.status.idle": "2022-12-18T07:26:28.934996Z",
     "shell.execute_reply": "2022-12-18T07:26:28.934035Z"
    },
    "papermill": {
     "duration": 0.106559,
     "end_time": "2022-12-18T07:26:28.937753",
     "exception": false,
     "start_time": "2022-12-18T07:26:28.831194",
     "status": "completed"
    },
    "tags": []
   },
   "outputs": [],
   "source": [
    "test=fillMissing(test_data)\n",
    "test1=initialProcessing(test,num_feat)\n",
    "test2=nominalEncoding(test,test1,cat_feat_nom)\n",
    "X_test=ordinalTransform(test,test2,ord_arr,cat_feat_ord)"
   ]
  },
  {
   "cell_type": "code",
   "execution_count": 25,
   "id": "47984509",
   "metadata": {
    "execution": {
     "iopub.execute_input": "2022-12-18T07:26:28.959090Z",
     "iopub.status.busy": "2022-12-18T07:26:28.958703Z",
     "iopub.status.idle": "2022-12-18T07:26:28.963202Z",
     "shell.execute_reply": "2022-12-18T07:26:28.961805Z"
    },
    "papermill": {
     "duration": 0.018701,
     "end_time": "2022-12-18T07:26:28.966527",
     "exception": false,
     "start_time": "2022-12-18T07:26:28.947826",
     "status": "completed"
    },
    "tags": []
   },
   "outputs": [],
   "source": [
    "#Y_predgbc=gbc.predict(X_test) "
   ]
  },
  {
   "cell_type": "code",
   "execution_count": 26,
   "id": "40e24e91",
   "metadata": {
    "execution": {
     "iopub.execute_input": "2022-12-18T07:26:28.987833Z",
     "iopub.status.busy": "2022-12-18T07:26:28.986932Z",
     "iopub.status.idle": "2022-12-18T07:26:29.110863Z",
     "shell.execute_reply": "2022-12-18T07:26:29.110168Z"
    },
    "papermill": {
     "duration": 0.136679,
     "end_time": "2022-12-18T07:26:29.113213",
     "exception": false,
     "start_time": "2022-12-18T07:26:28.976534",
     "status": "completed"
    },
    "tags": []
   },
   "outputs": [],
   "source": [
    "Y_predrfc=rfc.predict(X_test) #0.62563"
   ]
  },
  {
   "cell_type": "code",
   "execution_count": 27,
   "id": "c028bc2c",
   "metadata": {
    "execution": {
     "iopub.execute_input": "2022-12-18T07:26:29.134186Z",
     "iopub.status.busy": "2022-12-18T07:26:29.133581Z",
     "iopub.status.idle": "2022-12-18T07:26:29.137623Z",
     "shell.execute_reply": "2022-12-18T07:26:29.136473Z"
    },
    "papermill": {
     "duration": 0.016942,
     "end_time": "2022-12-18T07:26:29.139848",
     "exception": false,
     "start_time": "2022-12-18T07:26:29.122906",
     "status": "completed"
    },
    "tags": []
   },
   "outputs": [],
   "source": [
    "#Y_predknn=knn.predict(X_test)"
   ]
  },
  {
   "cell_type": "code",
   "execution_count": 28,
   "id": "1d056c6b",
   "metadata": {
    "execution": {
     "iopub.execute_input": "2022-12-18T07:26:29.160342Z",
     "iopub.status.busy": "2022-12-18T07:26:29.159991Z",
     "iopub.status.idle": "2022-12-18T07:26:29.165419Z",
     "shell.execute_reply": "2022-12-18T07:26:29.163956Z"
    },
    "papermill": {
     "duration": 0.018749,
     "end_time": "2022-12-18T07:26:29.168077",
     "exception": false,
     "start_time": "2022-12-18T07:26:29.149328",
     "status": "completed"
    },
    "tags": []
   },
   "outputs": [],
   "source": [
    "#Y_predlr=lr.predict(X_test)"
   ]
  },
  {
   "cell_type": "code",
   "execution_count": 29,
   "id": "ac56e9c5",
   "metadata": {
    "execution": {
     "iopub.execute_input": "2022-12-18T07:26:29.188554Z",
     "iopub.status.busy": "2022-12-18T07:26:29.188192Z",
     "iopub.status.idle": "2022-12-18T07:26:29.200223Z",
     "shell.execute_reply": "2022-12-18T07:26:29.199086Z"
    },
    "papermill": {
     "duration": 0.024743,
     "end_time": "2022-12-18T07:26:29.202412",
     "exception": false,
     "start_time": "2022-12-18T07:26:29.177669",
     "status": "completed"
    },
    "tags": []
   },
   "outputs": [],
   "source": [
    "submission=pd.DataFrame(columns=['id','Offer Accepted'])\n",
    "submission['id']=[i for i in range(len(Y_predrfc))]\n",
    "submission['Offer Accepted']=Y_predrfc"
   ]
  },
  {
   "cell_type": "code",
   "execution_count": 30,
   "id": "4f419a85",
   "metadata": {
    "execution": {
     "iopub.execute_input": "2022-12-18T07:26:29.222851Z",
     "iopub.status.busy": "2022-12-18T07:26:29.222450Z",
     "iopub.status.idle": "2022-12-18T07:26:29.234346Z",
     "shell.execute_reply": "2022-12-18T07:26:29.233114Z"
    },
    "papermill": {
     "duration": 0.024773,
     "end_time": "2022-12-18T07:26:29.236720",
     "exception": false,
     "start_time": "2022-12-18T07:26:29.211947",
     "status": "completed"
    },
    "tags": []
   },
   "outputs": [
    {
     "data": {
      "text/html": [
       "<div>\n",
       "<style scoped>\n",
       "    .dataframe tbody tr th:only-of-type {\n",
       "        vertical-align: middle;\n",
       "    }\n",
       "\n",
       "    .dataframe tbody tr th {\n",
       "        vertical-align: top;\n",
       "    }\n",
       "\n",
       "    .dataframe thead th {\n",
       "        text-align: right;\n",
       "    }\n",
       "</style>\n",
       "<table border=\"1\" class=\"dataframe\">\n",
       "  <thead>\n",
       "    <tr style=\"text-align: right;\">\n",
       "      <th></th>\n",
       "      <th>id</th>\n",
       "      <th>Offer Accepted</th>\n",
       "    </tr>\n",
       "  </thead>\n",
       "  <tbody>\n",
       "    <tr>\n",
       "      <th>0</th>\n",
       "      <td>0</td>\n",
       "      <td>Yes</td>\n",
       "    </tr>\n",
       "    <tr>\n",
       "      <th>1</th>\n",
       "      <td>1</td>\n",
       "      <td>Yes</td>\n",
       "    </tr>\n",
       "    <tr>\n",
       "      <th>2</th>\n",
       "      <td>2</td>\n",
       "      <td>No</td>\n",
       "    </tr>\n",
       "    <tr>\n",
       "      <th>3</th>\n",
       "      <td>3</td>\n",
       "      <td>No</td>\n",
       "    </tr>\n",
       "    <tr>\n",
       "      <th>4</th>\n",
       "      <td>4</td>\n",
       "      <td>Yes</td>\n",
       "    </tr>\n",
       "  </tbody>\n",
       "</table>\n",
       "</div>"
      ],
      "text/plain": [
       "   id Offer Accepted\n",
       "0   0            Yes\n",
       "1   1            Yes\n",
       "2   2             No\n",
       "3   3             No\n",
       "4   4            Yes"
      ]
     },
     "execution_count": 30,
     "metadata": {},
     "output_type": "execute_result"
    }
   ],
   "source": [
    "submission.head()"
   ]
  },
  {
   "cell_type": "code",
   "execution_count": 31,
   "id": "b91c09ea",
   "metadata": {
    "execution": {
     "iopub.execute_input": "2022-12-18T07:26:29.258223Z",
     "iopub.status.busy": "2022-12-18T07:26:29.257120Z",
     "iopub.status.idle": "2022-12-18T07:26:29.268028Z",
     "shell.execute_reply": "2022-12-18T07:26:29.267375Z"
    },
    "papermill": {
     "duration": 0.023288,
     "end_time": "2022-12-18T07:26:29.269948",
     "exception": false,
     "start_time": "2022-12-18T07:26:29.246660",
     "status": "completed"
    },
    "tags": []
   },
   "outputs": [],
   "source": [
    "submission.to_csv('submission.csv',index=False)"
   ]
  }
 ],
 "metadata": {
  "kernelspec": {
   "display_name": "Python 3",
   "language": "python",
   "name": "python3"
  },
  "language_info": {
   "codemirror_mode": {
    "name": "ipython",
    "version": 3
   },
   "file_extension": ".py",
   "mimetype": "text/x-python",
   "name": "python",
   "nbconvert_exporter": "python",
   "pygments_lexer": "ipython3",
   "version": "3.7.12"
  },
  "papermill": {
   "default_parameters": {},
   "duration": 17.865316,
   "end_time": "2022-12-18T07:26:30.001216",
   "environment_variables": {},
   "exception": null,
   "input_path": "__notebook__.ipynb",
   "output_path": "__notebook__.ipynb",
   "parameters": {},
   "start_time": "2022-12-18T07:26:12.135900",
   "version": "2.3.4"
  }
 },
 "nbformat": 4,
 "nbformat_minor": 5
}
